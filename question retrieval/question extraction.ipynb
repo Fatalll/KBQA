{
 "cells": [
  {
   "cell_type": "code",
   "execution_count": 35,
   "metadata": {},
   "outputs": [],
   "source": [
    "import re\n",
    "import random"
   ]
  },
  {
   "cell_type": "code",
   "execution_count": 43,
   "metadata": {},
   "outputs": [],
   "source": [
    "questions = []\n",
    "answers = []"
   ]
  },
  {
   "cell_type": "code",
   "execution_count": 44,
   "metadata": {},
   "outputs": [],
   "source": [
    "for i in range(0, 1):\n",
    "    with open(f'scraped_check_{i}.txt', 'r') as inf:\n",
    "        lines = [line.strip() for line in inf]\n",
    "\n",
    "    for i, line in enumerate(lines):\n",
    "        if i % 5 == 0:\n",
    "            q = line.replace('“', '\"').replace('”', '\"').replace('<h3>', '').replace('</h3>', '')\n",
    "            questions.append(q)\n",
    "        if i % 5 == 1:\n",
    "            a = line.replace('</span></h3>', '').replace('<h3 style=\\'color:#990000\\'>Не верно!<br /><br /><span style=\"color:#339966\">Правильный ответ: ', '')\n",
    "            answers.append(a)"
   ]
  },
  {
   "cell_type": "code",
   "execution_count": 45,
   "metadata": {},
   "outputs": [],
   "source": [
    "with open('qa_0.txt', 'w') as ouf:\n",
    "    for i in range(len(questions)):\n",
    "        q = questions[i]\n",
    "        a = answers[i]\n",
    "        if is_good(q):\n",
    "            ouf.write(q + '\\n')\n",
    "            ouf.write(a + '\\n')"
   ]
  },
  {
   "cell_type": "code",
   "execution_count": 12,
   "metadata": {},
   "outputs": [],
   "source": [
    "def is_good(q):\n",
    "    if q == '':\n",
    "        return False\n",
    "    return True\n",
    "\n",
    "def has_question_sign(q):\n",
    "    if '?' in q:\n",
    "        return True\n",
    "    return False"
   ]
  },
  {
   "cell_type": "code",
   "execution_count": 16,
   "metadata": {},
   "outputs": [
    {
     "name": "stdout",
     "output_type": "stream",
     "text": [
      "<h3></h3>\n",
      "<h3></h3>\n",
      "<h3></h3>\n",
      "<h3></h3>\n",
      "<h3></h3>\n",
      "<h3>Oткyдa в нaши кpaя нa зимy пpилeтaeт пyнoчкa</h3>\n",
      "<h3>Oткyпщик в дp. Pимe</h3>\n"
     ]
    }
   ],
   "source": [
    "with open(f'scraped_check_5.txt', 'r') as inf:\n",
    "    lines = [line.strip() for line in inf]\n",
    "    cnt = set()\n",
    "    for i, l in enumerate(lines):\n",
    "        if i % 5 == 0:\n",
    "            if l not in cnt:\n",
    "                cnt.add(l)\n",
    "            else:\n",
    "                print(l)"
   ]
  },
  {
   "cell_type": "code",
   "execution_count": 21,
   "metadata": {},
   "outputs": [],
   "source": [
    "qs = []\n",
    "with open('grouping/qa.txt', 'r') as inf:\n",
    "    lines = list(inf)\n",
    "    for i in range(0, len(lines), 2):\n",
    "        if has_question_sign(lines[i]) and 'букв. )' not in lines[i]:\n",
    "            qs.append(lines[i])\n",
    "            qs.append(lines[i + 1])\n",
    "\n",
    "with open('grouping/qa_qs.txt', 'w') as ouf:\n",
    "    for line in qs:\n",
    "        ouf.write(line)"
   ]
  },
  {
   "cell_type": "code",
   "execution_count": 25,
   "metadata": {},
   "outputs": [
    {
     "data": {
      "text/plain": [
       "{'Этого', 'Этой', 'Этому', 'Этот', 'Эту'}"
      ]
     },
     "execution_count": 25,
     "metadata": {},
     "output_type": "execute_result"
    }
   ],
   "source": [
    "with open('grouping/to_be_edited_this.txt', 'r') as inf:\n",
    "    this = [line.strip() for line in inf]\n",
    "begin = set([this[i].split()[0] for i in range(0, len(this), 2)])\n",
    "begin"
   ]
  },
  {
   "cell_type": "code",
   "execution_count": 26,
   "metadata": {},
   "outputs": [],
   "source": [
    "for i in range(0, len(this), 2):\n",
    "    this[i] = this[i].replace('Этого', 'Какого').replace('Этой', 'Какой').replace('Этому', 'Какому').replace('Эту', 'Какую').replace('Этот', 'Какой')"
   ]
  },
  {
   "cell_type": "code",
   "execution_count": 27,
   "metadata": {},
   "outputs": [],
   "source": [
    "with open('grouping/edited_this.txt', 'w') as ouf:\n",
    "    for line in this:\n",
    "        ouf.write(line + '\\n')"
   ]
  },
  {
   "cell_type": "code",
   "execution_count": 28,
   "metadata": {},
   "outputs": [],
   "source": [
    "with open('grouping/to_be_edited_how_called.txt', 'r') as inf:\n",
    "    how_called = [line.strip() for line in inf]"
   ]
  },
  {
   "cell_type": "code",
   "execution_count": 31,
   "metadata": {},
   "outputs": [],
   "source": [
    "for i in range(0, len(how_called), 2):\n",
    "    how_called[i] = how_called[i][0].lower() + how_called[i][1:]\n",
    "    how_called[i] = 'Как называется ' + how_called[i]\n",
    "    if '?' not in how_called[i]:\n",
    "        how_called[i] = how_called[i] + '?'"
   ]
  },
  {
   "cell_type": "code",
   "execution_count": 32,
   "metadata": {},
   "outputs": [],
   "source": [
    "with open('grouping/edited_how_called.txt', 'w') as ouf:\n",
    "    for line in how_called:\n",
    "        ouf.write(line + '\\n')"
   ]
  },
  {
   "cell_type": "code",
   "execution_count": 33,
   "metadata": {},
   "outputs": [
    {
     "data": {
      "text/plain": [
       "10678"
      ]
     },
     "execution_count": 33,
     "metadata": {},
     "output_type": "execute_result"
    }
   ],
   "source": [
    "len(how_called)"
   ]
  },
  {
   "cell_type": "code",
   "execution_count": 39,
   "metadata": {},
   "outputs": [],
   "source": [
    "hc_smpl = random.sample(range(len(how_called) // 2), 500)"
   ]
  },
  {
   "cell_type": "code",
   "execution_count": 40,
   "metadata": {},
   "outputs": [],
   "source": [
    "how_called_sample = []\n",
    "for i in hc_smpl:\n",
    "    how_called_sample.append(how_called[i * 2])\n",
    "    how_called_sample.append(how_called[i * 2 + 1])"
   ]
  },
  {
   "cell_type": "code",
   "execution_count": 42,
   "metadata": {},
   "outputs": [],
   "source": [
    "with open('grouping/sample_how_called.txt', 'w') as ouf:\n",
    "    for line in how_called_sample:\n",
    "        ouf.write(line + '\\n')"
   ]
  },
  {
   "cell_type": "code",
   "execution_count": null,
   "metadata": {},
   "outputs": [],
   "source": []
  }
 ],
 "metadata": {
  "kernelspec": {
   "display_name": "Python 3",
   "language": "python",
   "name": "python3"
  },
  "language_info": {
   "codemirror_mode": {
    "name": "ipython",
    "version": 3
   },
   "file_extension": ".py",
   "mimetype": "text/x-python",
   "name": "python",
   "nbconvert_exporter": "python",
   "pygments_lexer": "ipython3",
   "version": "3.7.1"
  }
 },
 "nbformat": 4,
 "nbformat_minor": 2
}
